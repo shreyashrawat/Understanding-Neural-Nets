{
 "cells": [
  {
   "cell_type": "code",
   "execution_count": 2,
   "id": "938c5f92",
   "metadata": {},
   "outputs": [],
   "source": [
    "import torch\n",
    "import torch.nn.functional as F\n",
    "import matplotlib.pyplot as plt"
   ]
  },
  {
   "cell_type": "code",
   "execution_count": 3,
   "id": "d098f7ca",
   "metadata": {},
   "outputs": [],
   "source": [
    "words = open('names.txt', 'r').read().splitlines()"
   ]
  },
  {
   "cell_type": "code",
   "execution_count": 4,
   "id": "f3921fe2",
   "metadata": {},
   "outputs": [
    {
     "data": {
      "text/plain": [
       "32033"
      ]
     },
     "execution_count": 4,
     "metadata": {},
     "output_type": "execute_result"
    }
   ],
   "source": [
    "len(words)"
   ]
  },
  {
   "cell_type": "code",
   "execution_count": 8,
   "id": "945db18a",
   "metadata": {},
   "outputs": [
    {
     "data": {
      "text/plain": [
       "['emma', 'olivia', 'ava']"
      ]
     },
     "execution_count": 8,
     "metadata": {},
     "output_type": "execute_result"
    }
   ],
   "source": [
    "words[:3]"
   ]
  },
  {
   "cell_type": "code",
   "execution_count": 7,
   "id": "bf4c82c5",
   "metadata": {},
   "outputs": [
    {
     "name": "stdout",
     "output_type": "stream",
     "text": [
      "{1: 'a', 2: 'b', 3: 'c', 4: 'd', 5: 'e', 6: 'f', 7: 'g', 8: 'h', 9: 'i', 10: 'j', 11: 'k', 12: 'l', 13: 'm', 14: 'n', 15: 'o', 16: 'p', 17: 'q', 18: 'r', 19: 's', 20: 't', 21: 'u', 22: 'v', 23: 'w', 24: 'x', 25: 'y', 26: 'z', 0: '.'}\n"
     ]
    }
   ],
   "source": [
    "chars = sorted(set(''.join(words)))\n",
    "stoi = {s:i+1 for i,s in enumerate(chars)}\n",
    "stoi['.'] = 0\n",
    "itos = {i:s for s,i in stoi.items()}\n",
    "print(itos)"
   ]
  },
  {
   "cell_type": "code",
   "execution_count": 115,
   "id": "c1fa13d3",
   "metadata": {},
   "outputs": [],
   "source": [
    "block_size = 3\n",
    "X, Y = [], []\n",
    "\n",
    "context = [0] * block_size\n",
    "for w in words:\n",
    "    \n",
    "    for ch in w + '.':\n",
    "        ix = stoi[ch]\n",
    "        X.append(context)\n",
    "        Y.append(ix)\n",
    "        \n",
    "        context = context[1:] + [ix]\n",
    "#         print(f'{context} -> {ix}' )\n",
    "X = torch.tensor(X)\n",
    "y = torch.tensor(Y)"
   ]
  },
  {
   "cell_type": "code",
   "execution_count": 51,
   "id": "bd88a1b8",
   "metadata": {},
   "outputs": [
    {
     "data": {
      "text/plain": [
       "(torch.Size([32, 3]), torch.int64)"
      ]
     },
     "execution_count": 51,
     "metadata": {},
     "output_type": "execute_result"
    }
   ],
   "source": [
    "X.shape, X.dtype"
   ]
  },
  {
   "cell_type": "code",
   "execution_count": 52,
   "id": "9673d12e",
   "metadata": {},
   "outputs": [
    {
     "data": {
      "text/plain": [
       "(torch.Size([32]), torch.int64)"
      ]
     },
     "execution_count": 52,
     "metadata": {},
     "output_type": "execute_result"
    }
   ],
   "source": [
    "y.shape, y.dtype"
   ]
  },
  {
   "cell_type": "code",
   "execution_count": 53,
   "id": "5560883a",
   "metadata": {},
   "outputs": [],
   "source": [
    "C = torch.randn(27,2)"
   ]
  },
  {
   "cell_type": "code",
   "execution_count": 54,
   "id": "fbbac260",
   "metadata": {},
   "outputs": [],
   "source": [
    "emb = C[X]"
   ]
  },
  {
   "cell_type": "code",
   "execution_count": 60,
   "id": "38d6c098",
   "metadata": {},
   "outputs": [],
   "source": [
    "W1 = torch.randn(6,100)\n",
    "b1 = torch.randn(100)"
   ]
  },
  {
   "cell_type": "code",
   "execution_count": 57,
   "id": "6e0032c2",
   "metadata": {},
   "outputs": [
    {
     "data": {
      "text/plain": [
       "torch.Size([32, 6])"
      ]
     },
     "execution_count": 57,
     "metadata": {},
     "output_type": "execute_result"
    }
   ],
   "source": [
    "torch.cat([emb[:,0,:],emb[:,1,:],emb[:,2,:]], dim = 1).shape"
   ]
  },
  {
   "cell_type": "code",
   "execution_count": 58,
   "id": "9c620d04",
   "metadata": {},
   "outputs": [
    {
     "data": {
      "text/plain": [
       "torch.Size([32, 6])"
      ]
     },
     "execution_count": 58,
     "metadata": {},
     "output_type": "execute_result"
    }
   ],
   "source": [
    "torch.cat(torch.unbind(emb,dim=1), dim=1).shape"
   ]
  },
  {
   "cell_type": "code",
   "execution_count": 63,
   "id": "8312429b",
   "metadata": {},
   "outputs": [
    {
     "data": {
      "text/plain": [
       "torch.Size([32, 100])"
      ]
     },
     "execution_count": 63,
     "metadata": {},
     "output_type": "execute_result"
    }
   ],
   "source": [
    "h = torch.tanh(emb.view(32,6) @ W1 + b1)\n",
    "h.shape"
   ]
  },
  {
   "cell_type": "code",
   "execution_count": 64,
   "id": "92e950f8",
   "metadata": {},
   "outputs": [],
   "source": [
    "W2 = torch.randn(100,27)\n",
    "b2 = torch.randn(27)"
   ]
  },
  {
   "cell_type": "code",
   "execution_count": 65,
   "id": "2b19bc63",
   "metadata": {},
   "outputs": [],
   "source": [
    "logits = h@W2 + b2"
   ]
  },
  {
   "cell_type": "code",
   "execution_count": 66,
   "id": "4fa7d5ad",
   "metadata": {},
   "outputs": [],
   "source": [
    "counts = logits.exp()"
   ]
  },
  {
   "cell_type": "code",
   "execution_count": 67,
   "id": "3498c595",
   "metadata": {},
   "outputs": [
    {
     "data": {
      "text/plain": [
       "torch.Size([32, 27])"
      ]
     },
     "execution_count": 67,
     "metadata": {},
     "output_type": "execute_result"
    }
   ],
   "source": [
    "counts.shape"
   ]
  },
  {
   "cell_type": "code",
   "execution_count": 70,
   "id": "8be792e0",
   "metadata": {},
   "outputs": [
    {
     "data": {
      "text/plain": [
       "torch.Size([32, 1])"
      ]
     },
     "execution_count": 70,
     "metadata": {},
     "output_type": "execute_result"
    }
   ],
   "source": [
    "counts.sum(dim = 1, keepdims = True).shape"
   ]
  },
  {
   "cell_type": "code",
   "execution_count": 74,
   "id": "5f80102e",
   "metadata": {},
   "outputs": [],
   "source": [
    "prob = counts/counts.sum(dim=1,keepdims = True)"
   ]
  },
  {
   "cell_type": "code",
   "execution_count": 78,
   "id": "681443c8",
   "metadata": {},
   "outputs": [
    {
     "data": {
      "text/plain": [
       "torch.Size([32, 27])"
      ]
     },
     "execution_count": 78,
     "metadata": {},
     "output_type": "execute_result"
    }
   ],
   "source": [
    "prob.shape"
   ]
  },
  {
   "cell_type": "code",
   "execution_count": 79,
   "id": "c4c51b6e",
   "metadata": {},
   "outputs": [
    {
     "data": {
      "text/plain": [
       "tensor([ 0,  1,  2,  3,  4,  5,  6,  7,  8,  9, 10, 11, 12, 13, 14, 15, 16, 17,\n",
       "        18, 19, 20, 21, 22, 23, 24, 25, 26, 27, 28, 29, 30, 31])"
      ]
     },
     "execution_count": 79,
     "metadata": {},
     "output_type": "execute_result"
    }
   ],
   "source": [
    "torch.arange(32)"
   ]
  },
  {
   "cell_type": "code",
   "execution_count": 83,
   "id": "2093bb31",
   "metadata": {},
   "outputs": [
    {
     "data": {
      "text/plain": [
       "[tensor(4.2108e-08),\n",
       " tensor(7.3084e-12),\n",
       " tensor(3.0258e-14),\n",
       " tensor(8.7722e-15),\n",
       " tensor(6.4172e-09),\n",
       " tensor(1.6141e-06),\n",
       " tensor(0.6335),\n",
       " tensor(6.1603e-09),\n",
       " tensor(6.9956e-09),\n",
       " tensor(0.0007),\n",
       " tensor(7.8795e-08),\n",
       " tensor(6.9522e-11),\n",
       " tensor(1.5664e-10),\n",
       " tensor(1.3282e-06),\n",
       " tensor(5.7742e-07),\n",
       " tensor(2.3582e-13),\n",
       " tensor(3.6493e-05),\n",
       " tensor(2.1553e-11),\n",
       " tensor(2.8613e-08),\n",
       " tensor(5.7478e-10),\n",
       " tensor(1.3386e-12),\n",
       " tensor(0.5519),\n",
       " tensor(0.7823),\n",
       " tensor(4.1084e-14),\n",
       " tensor(1.9669e-11),\n",
       " tensor(0.0031),\n",
       " tensor(4.1127e-09),\n",
       " tensor(3.1611e-13),\n",
       " tensor(1.3195e-10),\n",
       " tensor(1.3185e-08),\n",
       " tensor(7.8726e-12),\n",
       " tensor(2.3157e-12)]"
      ]
     },
     "execution_count": 83,
     "metadata": {},
     "output_type": "execute_result"
    }
   ],
   "source": [
    "[prob[i,j] for i,j in enumerate(Y)]"
   ]
  },
  {
   "cell_type": "code",
   "execution_count": 84,
   "id": "db216bba",
   "metadata": {},
   "outputs": [
    {
     "data": {
      "text/plain": [
       "tensor([4.2108e-08, 7.3084e-12, 3.0258e-14, 8.7722e-15, 6.4172e-09, 1.6141e-06,\n",
       "        6.3349e-01, 6.1603e-09, 6.9956e-09, 7.4607e-04, 7.8795e-08, 6.9522e-11,\n",
       "        1.5664e-10, 1.3282e-06, 5.7742e-07, 2.3582e-13, 3.6493e-05, 2.1553e-11,\n",
       "        2.8613e-08, 5.7478e-10, 1.3386e-12, 5.5193e-01, 7.8235e-01, 4.1084e-14,\n",
       "        1.9669e-11, 3.0591e-03, 4.1127e-09, 3.1611e-13, 1.3195e-10, 1.3185e-08,\n",
       "        7.8726e-12, 2.3157e-12])"
      ]
     },
     "execution_count": 84,
     "metadata": {},
     "output_type": "execute_result"
    }
   ],
   "source": [
    "prob[torch.arange(32), Y]"
   ]
  },
  {
   "cell_type": "code",
   "execution_count": 91,
   "id": "0e3d315a",
   "metadata": {},
   "outputs": [],
   "source": [
    "counts = logits.exp()\n",
    "prob = counts/counts.sum(dim=1,keepdims = True)\n",
    "loss = -prob[torch.arange(32), y].log().mean()\n",
    "#------------------------------------------------------\n",
    "loss_inbuilt = F.cross_entropy(logits, y)"
   ]
  },
  {
   "cell_type": "code",
   "execution_count": 92,
   "id": "2e35f573",
   "metadata": {},
   "outputs": [
    {
     "data": {
      "text/plain": [
       "tensor(0.)"
      ]
     },
     "execution_count": 92,
     "metadata": {},
     "output_type": "execute_result"
    }
   ],
   "source": [
    "loss - loss_inbuilt"
   ]
  },
  {
   "cell_type": "code",
   "execution_count": 116,
   "id": "e1bed2c2",
   "metadata": {},
   "outputs": [],
   "source": [
    "W1 = torch.randn((6,100))\n",
    "b1 = torch.randn(100)\n",
    "W2 = torch.randn((100,27))\n",
    "b2 = torch.randn(27)"
   ]
  },
  {
   "cell_type": "code",
   "execution_count": 117,
   "id": "49b63a09",
   "metadata": {},
   "outputs": [],
   "source": [
    "parameters = [C,W1,b1,W2,b2]\n",
    "for p in parameters:\n",
    "    p.requires_grad = True"
   ]
  },
  {
   "cell_type": "code",
   "execution_count": 124,
   "id": "6e7e860a",
   "metadata": {},
   "outputs": [
    {
     "data": {
      "text/plain": [
       "torch.Size([228146, 3])"
      ]
     },
     "execution_count": 124,
     "metadata": {},
     "output_type": "execute_result"
    }
   ],
   "source": [
    "X.shape"
   ]
  },
  {
   "cell_type": "code",
   "execution_count": 128,
   "id": "22201041",
   "metadata": {},
   "outputs": [
    {
     "name": "stdout",
     "output_type": "stream",
     "text": [
      "3.8609254360198975\n",
      "5.466743469238281\n",
      "4.792149066925049\n",
      "5.273321151733398\n",
      "4.272727012634277\n",
      "5.869709491729736\n",
      "6.226574897766113\n",
      "5.083045959472656\n",
      "4.1707282066345215\n",
      "4.309988498687744\n"
     ]
    }
   ],
   "source": [
    "for _ in range(10):   \n",
    "    batch = torch.randint(0, X.shape[0], (32,))\n",
    "    emb = C[X[batch]]\n",
    "    h = torch.tanh(emb.view(-1,6) @ W1 + b1)\n",
    "    logits = h@W2 + b2\n",
    "    loss = F.cross_entropy(logits, y[batch])\n",
    "    print(loss.item())\n",
    "    for p in parameters:\n",
    "        p.grad = None\n",
    "    loss.backward()\n",
    "    for p in parameters:\n",
    "        p.data -= 0.1 * p.grad"
   ]
  },
  {
   "cell_type": "code",
   "execution_count": 95,
   "id": "e4fe83d4",
   "metadata": {},
   "outputs": [],
   "source": []
  },
  {
   "cell_type": "code",
   "execution_count": null,
   "id": "38db6325",
   "metadata": {},
   "outputs": [],
   "source": []
  }
 ],
 "metadata": {
  "kernelspec": {
   "display_name": "karpathy_nn",
   "language": "python",
   "name": "karpathy_nn"
  },
  "language_info": {
   "codemirror_mode": {
    "name": "ipython",
    "version": 3
   },
   "file_extension": ".py",
   "mimetype": "text/x-python",
   "name": "python",
   "nbconvert_exporter": "python",
   "pygments_lexer": "ipython3",
   "version": "3.10.4"
  }
 },
 "nbformat": 4,
 "nbformat_minor": 5
}
